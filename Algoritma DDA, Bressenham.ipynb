{
 "cells": [
  {
   "cell_type": "markdown",
   "metadata": {},
   "source": [
    "## Import Library "
   ]
  },
  {
   "cell_type": "code",
   "execution_count": 1,
   "metadata": {},
   "outputs": [],
   "source": [
    "import numpy as np\n",
    "import pandas as pd\n",
    "from matplotlib import pyplot as plt"
   ]
  },
  {
   "cell_type": "markdown",
   "metadata": {},
   "source": [
    "## Algoritma DDA Garis"
   ]
  },
  {
   "cell_type": "code",
   "execution_count": 2,
   "metadata": {},
   "outputs": [],
   "source": [
    "def round(a):\n",
    "    return int(a + 0.5)"
   ]
  },
  {
   "cell_type": "code",
   "execution_count": 3,
   "metadata": {},
   "outputs": [
    {
     "data": {
      "text/html": [
       "<style type=\"text/css\">\n",
       "table.dataframe td, table.dataframe th {\n",
       "    border: 1px  black solid !important;\n",
       "    color: black !important;\n",
       "    width:20%;\n",
       "}\n",
       "</style>\n"
      ],
      "text/plain": [
       "<IPython.core.display.HTML object>"
      ]
     },
     "metadata": {},
     "output_type": "display_data"
    }
   ],
   "source": [
    "%%HTML\n",
    "<style type=\"text/css\">\n",
    "table.dataframe td, table.dataframe th {\n",
    "    border: 1px  black solid !important;\n",
    "    color: black !important;\n",
    "    width:20%;\n",
    "}\n",
    "</style>"
   ]
  },
  {
   "cell_type": "code",
   "execution_count": 4,
   "metadata": {},
   "outputs": [],
   "source": [
    "def dda(x0,y0,x1,y1):\n",
    "    x = []\n",
    "    y = []\n",
    "    deltaX = x1-x0\n",
    "    deltaY = y1-y0\n",
    "    if abs(deltaX) > abs(deltaY):\n",
    "      step = abs(deltaX)\n",
    "    else:\n",
    "      step = abs(deltaY)\n",
    "    x_inc = abs(deltaX) / step\n",
    "    y_inc = abs(deltaY) / step\n",
    "    for i in range(step):\n",
    "        x0 = round(x0 + x_inc)\n",
    "        y0 = round(y0 + y_inc)\n",
    "        x.append(x0)\n",
    "        y.append(y0)\n",
    "    return x,y"
   ]
  },
  {
   "cell_type": "code",
   "execution_count": 5,
   "metadata": {},
   "outputs": [
    {
     "data": {
      "text/plain": [
       "([21, 22, 23, 24, 25, 26, 27, 28, 29, 30],\n",
       " [11, 12, 13, 14, 15, 16, 17, 18, 19, 20])"
      ]
     },
     "execution_count": 5,
     "metadata": {},
     "output_type": "execute_result"
    }
   ],
   "source": [
    "x, y = dda(20,10,30,18)\n",
    "dda(20,10,30,18)"
   ]
  },
  {
   "cell_type": "code",
   "execution_count": 6,
   "metadata": {},
   "outputs": [
    {
     "data": {
      "text/html": [
       "<div>\n",
       "<style scoped>\n",
       "    .dataframe tbody tr th:only-of-type {\n",
       "        vertical-align: middle;\n",
       "    }\n",
       "\n",
       "    .dataframe tbody tr th {\n",
       "        vertical-align: top;\n",
       "    }\n",
       "\n",
       "    .dataframe thead th {\n",
       "        text-align: right;\n",
       "    }\n",
       "</style>\n",
       "<table border=\"1\" class=\"dataframe\">\n",
       "  <thead>\n",
       "    <tr style=\"text-align: right;\">\n",
       "      <th></th>\n",
       "      <th>x</th>\n",
       "      <th>y</th>\n",
       "      <th>round(x),round(y)</th>\n",
       "    </tr>\n",
       "  </thead>\n",
       "  <tbody>\n",
       "    <tr>\n",
       "      <td>0</td>\n",
       "      <td>21</td>\n",
       "      <td>11</td>\n",
       "      <td>{21,11}</td>\n",
       "    </tr>\n",
       "    <tr>\n",
       "      <td>1</td>\n",
       "      <td>22</td>\n",
       "      <td>12</td>\n",
       "      <td>{22,12}</td>\n",
       "    </tr>\n",
       "    <tr>\n",
       "      <td>2</td>\n",
       "      <td>23</td>\n",
       "      <td>13</td>\n",
       "      <td>{23,13}</td>\n",
       "    </tr>\n",
       "    <tr>\n",
       "      <td>3</td>\n",
       "      <td>24</td>\n",
       "      <td>14</td>\n",
       "      <td>{24,14}</td>\n",
       "    </tr>\n",
       "    <tr>\n",
       "      <td>4</td>\n",
       "      <td>25</td>\n",
       "      <td>15</td>\n",
       "      <td>{25,15}</td>\n",
       "    </tr>\n",
       "    <tr>\n",
       "      <td>5</td>\n",
       "      <td>26</td>\n",
       "      <td>16</td>\n",
       "      <td>{26,16}</td>\n",
       "    </tr>\n",
       "    <tr>\n",
       "      <td>6</td>\n",
       "      <td>27</td>\n",
       "      <td>17</td>\n",
       "      <td>{27,17}</td>\n",
       "    </tr>\n",
       "    <tr>\n",
       "      <td>7</td>\n",
       "      <td>28</td>\n",
       "      <td>18</td>\n",
       "      <td>{28,18}</td>\n",
       "    </tr>\n",
       "    <tr>\n",
       "      <td>8</td>\n",
       "      <td>29</td>\n",
       "      <td>19</td>\n",
       "      <td>{29,19}</td>\n",
       "    </tr>\n",
       "    <tr>\n",
       "      <td>9</td>\n",
       "      <td>30</td>\n",
       "      <td>20</td>\n",
       "      <td>{30,20}</td>\n",
       "    </tr>\n",
       "  </tbody>\n",
       "</table>\n",
       "</div>"
      ],
      "text/plain": [
       "    x   y round(x),round(y)\n",
       "0  21  11           {21,11}\n",
       "1  22  12           {22,12}\n",
       "2  23  13           {23,13}\n",
       "3  24  14           {24,14}\n",
       "4  25  15           {25,15}\n",
       "5  26  16           {26,16}\n",
       "6  27  17           {27,17}\n",
       "7  28  18           {28,18}\n",
       "8  29  19           {29,19}\n",
       "9  30  20           {30,20}"
      ]
     },
     "execution_count": 6,
     "metadata": {},
     "output_type": "execute_result"
    }
   ],
   "source": [
    "round_x = [round(x) for x in x]\n",
    "round_y = [round(x) for x in y]\n",
    "\n",
    "df = pd.DataFrame({'x': x, 'y':y})\n",
    "rd = pd.DataFrame({'round(x)':round_x, 'round(y)':round_y})\n",
    "df['round(x),round(y)']= \"{\"+rd[\"round(x)\"].astype(str) +\",\"+ rd[\"round(y)\"].astype(str)+\"}\"\n",
    "df"
   ]
  },
  {
   "cell_type": "code",
   "execution_count": 7,
   "metadata": {},
   "outputs": [
    {
     "data": {
      "image/png": "[encoded data removed]",
      "text/plain": [
       "<Figure size 432x288 with 1 Axes>"
      ]
     },
     "metadata": {
      "needs_background": "light"
     },
     "output_type": "display_data"
    }
   ],
   "source": [
    "plt.plot(x, y)\n",
    "plt.title('Garis dengan Algoritma DDA')\n",
    "plt.show()"
   ]
  },
  {
   "cell_type": "markdown",
   "metadata": {},
   "source": [
    "## Algoritma Bressenham Garis "
   ]
  },
  {
   "cell_type": "code",
   "execution_count": 8,
   "metadata": {},
   "outputs": [],
   "source": [
    "def bresenham(x0,y0,x1,y1):  \n",
    "    xbresenham = []\n",
    "    ybresenham = []\n",
    "    pkarray = []\n",
    "    deltaX = x1-x0\n",
    "    deltaY = y1-y0\n",
    "    delta2x = 2*deltaX\n",
    "    delta2y = 2*deltaY\n",
    "    delta2y2x = delta2y-delta2x\n",
    "    p0 = delta2y-deltaX\n",
    "    pk = p0\n",
    "    for i in range(deltaX):\n",
    "        if pk==p0 and pk>0:\n",
    "            x0 = x0+1\n",
    "            y0 = y0+1\n",
    "            pk = pk+delta2y2x\n",
    "            xbresenham.append(x0)\n",
    "            ybresenham.append(y0)\n",
    "            pkarray.append(pk)\n",
    "        elif pk!=p0 and pk>0:\n",
    "            x0 = x0+1\n",
    "            y0 = y0+1\n",
    "            pk = pk+delta2y2x\n",
    "            xbresenham.append(x0)\n",
    "            ybresenham.append(y0)\n",
    "            pkarray.append(pk)\n",
    "        elif pk!=p0 and pk<0:\n",
    "            x0 = x0+1\n",
    "            pk = pk+delta2y\n",
    "            xbresenham.append(x0)\n",
    "            ybresenham.append(y0)\n",
    "            pkarray.append(pk)\n",
    "        else:\n",
    "            x0 = x0+1\n",
    "            pk = pk+1+delta2y\n",
    "            xbresenham.append(x0)\n",
    "            ybresenham.append(y0)\n",
    "            pkarray.append(pk)\n",
    "    return xbresenham,ybresenham, pkarray"
   ]
  },
  {
   "cell_type": "code",
   "execution_count": 9,
   "metadata": {},
   "outputs": [
    {
     "data": {
      "text/plain": [
       "([21, 22, 23, 24, 25, 26, 27, 28, 29, 30],\n",
       " [11, 12, 12, 13, 14, 15, 16, 16, 17, 18],\n",
       " [2, -2, 14, 10, 6, 2, -2, 14, 10, 6])"
      ]
     },
     "execution_count": 9,
     "metadata": {},
     "output_type": "execute_result"
    }
   ],
   "source": [
    "xbresenham, ybresenham, pkarray = bresenham(20,10,30,18)\n",
    "bresenham(20,10,30,18)"
   ]
  },
  {
   "cell_type": "markdown",
   "metadata": {},
   "source": [
    "## Menampilkan Tabel "
   ]
  },
  {
   "cell_type": "code",
   "execution_count": 10,
   "metadata": {},
   "outputs": [
    {
     "data": {
      "text/html": [
       "<div>\n",
       "<style scoped>\n",
       "    .dataframe tbody tr th:only-of-type {\n",
       "        vertical-align: middle;\n",
       "    }\n",
       "\n",
       "    .dataframe tbody tr th {\n",
       "        vertical-align: top;\n",
       "    }\n",
       "\n",
       "    .dataframe thead th {\n",
       "        text-align: right;\n",
       "    }\n",
       "</style>\n",
       "<table border=\"1\" class=\"dataframe\">\n",
       "  <thead>\n",
       "    <tr style=\"text-align: right;\">\n",
       "      <th></th>\n",
       "      <th>pk</th>\n",
       "      <th>x</th>\n",
       "      <th>y</th>\n",
       "      <th>round(x),round(y)</th>\n",
       "    </tr>\n",
       "  </thead>\n",
       "  <tbody>\n",
       "    <tr>\n",
       "      <td>0</td>\n",
       "      <td>2</td>\n",
       "      <td>21</td>\n",
       "      <td>11</td>\n",
       "      <td>{21,11}</td>\n",
       "    </tr>\n",
       "    <tr>\n",
       "      <td>1</td>\n",
       "      <td>-2</td>\n",
       "      <td>22</td>\n",
       "      <td>12</td>\n",
       "      <td>{22,12}</td>\n",
       "    </tr>\n",
       "    <tr>\n",
       "      <td>2</td>\n",
       "      <td>14</td>\n",
       "      <td>23</td>\n",
       "      <td>12</td>\n",
       "      <td>{23,13}</td>\n",
       "    </tr>\n",
       "    <tr>\n",
       "      <td>3</td>\n",
       "      <td>10</td>\n",
       "      <td>24</td>\n",
       "      <td>13</td>\n",
       "      <td>{24,14}</td>\n",
       "    </tr>\n",
       "    <tr>\n",
       "      <td>4</td>\n",
       "      <td>6</td>\n",
       "      <td>25</td>\n",
       "      <td>14</td>\n",
       "      <td>{25,15}</td>\n",
       "    </tr>\n",
       "    <tr>\n",
       "      <td>5</td>\n",
       "      <td>2</td>\n",
       "      <td>26</td>\n",
       "      <td>15</td>\n",
       "      <td>{26,16}</td>\n",
       "    </tr>\n",
       "    <tr>\n",
       "      <td>6</td>\n",
       "      <td>-2</td>\n",
       "      <td>27</td>\n",
       "      <td>16</td>\n",
       "      <td>{27,17}</td>\n",
       "    </tr>\n",
       "    <tr>\n",
       "      <td>7</td>\n",
       "      <td>14</td>\n",
       "      <td>28</td>\n",
       "      <td>16</td>\n",
       "      <td>{28,18}</td>\n",
       "    </tr>\n",
       "    <tr>\n",
       "      <td>8</td>\n",
       "      <td>10</td>\n",
       "      <td>29</td>\n",
       "      <td>17</td>\n",
       "      <td>{29,19}</td>\n",
       "    </tr>\n",
       "    <tr>\n",
       "      <td>9</td>\n",
       "      <td>6</td>\n",
       "      <td>30</td>\n",
       "      <td>18</td>\n",
       "      <td>{30,20}</td>\n",
       "    </tr>\n",
       "  </tbody>\n",
       "</table>\n",
       "</div>"
      ],
      "text/plain": [
       "   pk   x   y round(x),round(y)\n",
       "0   2  21  11           {21,11}\n",
       "1  -2  22  12           {22,12}\n",
       "2  14  23  12           {23,13}\n",
       "3  10  24  13           {24,14}\n",
       "4   6  25  14           {25,15}\n",
       "5   2  26  15           {26,16}\n",
       "6  -2  27  16           {27,17}\n",
       "7  14  28  16           {28,18}\n",
       "8  10  29  17           {29,19}\n",
       "9   6  30  18           {30,20}"
      ]
     },
     "execution_count": 10,
     "metadata": {},
     "output_type": "execute_result"
    }
   ],
   "source": [
    "df = pd.DataFrame({'pk': pkarray,'x': xbresenham, 'y':ybresenham})\n",
    "df['round(x),round(y)']= \"{\"+rd[\"round(x)\"].astype(str) +\",\"+ rd[\"round(y)\"].astype(str)+\"}\"\n",
    "df"
   ]
  },
  {
   "cell_type": "markdown",
   "metadata": {},
   "source": [
    "##  Menampilkan Grafik"
   ]
  },
  {
   "cell_type": "code",
   "execution_count": 11,
   "metadata": {},
   "outputs": [
    {
     "data": {
      "image/png": "[encoded data removed]",
      "text/plain": [
       "<Figure size 432x288 with 1 Axes>"
      ]
     },
     "metadata": {
      "needs_background": "light"
     },
     "output_type": "display_data"
    }
   ],
   "source": [
    "plt.plot(xbresenham, ybresenham)\n",
    "plt.title('Garis dengan Algoritma Bresenham')\n",
    "plt.show()"
   ]
  },
  {
   "cell_type": "markdown",
   "metadata": {},
   "source": [
    "## Algoritma Bressenham Lingkaran"
   ]
  },
  {
   "cell_type": "code",
   "execution_count": 12,
   "metadata": {},
   "outputs": [],
   "source": [
    "def lingkaran(x0,y0,r):\n",
    "    X = []\n",
    "    Y = []\n",
    "    duaX = []\n",
    "    duaY = []\n",
    "    pks = []\n",
    "    y0 = y0+r\n",
    "    pk = 1-r\n",
    "    pks.append(pk)\n",
    "    while x0<y0:\n",
    "        if pk < 0:\n",
    "            x0 = x0+1\n",
    "            duax = 2*x0\n",
    "            duay = 2*y0\n",
    "            pk = pk+duax+1\n",
    "            X.append(x0)\n",
    "            Y.append(y0)\n",
    "            pks.append(pk)\n",
    "            duaX.append(duax)\n",
    "            duaY.append(duay)\n",
    "        else:\n",
    "            x0 = x0+1\n",
    "            y0 = y0-1\n",
    "            duax = 2*x0\n",
    "            duay = 2*y0\n",
    "            pk = pk+duax+1-duay\n",
    "            pks.append(pk)\n",
    "            X.append(x0)\n",
    "            Y.append(y0)\n",
    "            duaX.append(duax)\n",
    "            duaY.append(duay)\n",
    "        \n",
    "    return X,Y,pks,duaX,duaY"
   ]
  },
  {
   "cell_type": "code",
   "execution_count": 13,
   "metadata": {},
   "outputs": [],
   "source": [
    "X,Y,pks,duaX,duaY = lingkaran(0,50,100)\n",
    "pks = pks[:-1]"
   ]
  },
  {
   "cell_type": "code",
   "execution_count": 14,
   "metadata": {},
   "outputs": [
    {
     "data": {
      "text/html": [
       "<div>\n",
       "<style scoped>\n",
       "    .dataframe tbody tr th:only-of-type {\n",
       "        vertical-align: middle;\n",
       "    }\n",
       "\n",
       "    .dataframe tbody tr th {\n",
       "        vertical-align: top;\n",
       "    }\n",
       "\n",
       "    .dataframe thead th {\n",
       "        text-align: right;\n",
       "    }\n",
       "</style>\n",
       "<table border=\"1\" class=\"dataframe\">\n",
       "  <thead>\n",
       "    <tr style=\"text-align: right;\">\n",
       "      <th></th>\n",
       "      <th>pk</th>\n",
       "      <th>x</th>\n",
       "      <th>y</th>\n",
       "      <th>2x</th>\n",
       "      <th>2y</th>\n",
       "    </tr>\n",
       "  </thead>\n",
       "  <tbody>\n",
       "    <tr>\n",
       "      <td>0</td>\n",
       "      <td>-99</td>\n",
       "      <td>1</td>\n",
       "      <td>150</td>\n",
       "      <td>2</td>\n",
       "      <td>300</td>\n",
       "    </tr>\n",
       "    <tr>\n",
       "      <td>1</td>\n",
       "      <td>-96</td>\n",
       "      <td>2</td>\n",
       "      <td>150</td>\n",
       "      <td>4</td>\n",
       "      <td>300</td>\n",
       "    </tr>\n",
       "    <tr>\n",
       "      <td>2</td>\n",
       "      <td>-91</td>\n",
       "      <td>3</td>\n",
       "      <td>150</td>\n",
       "      <td>6</td>\n",
       "      <td>300</td>\n",
       "    </tr>\n",
       "    <tr>\n",
       "      <td>3</td>\n",
       "      <td>-84</td>\n",
       "      <td>4</td>\n",
       "      <td>150</td>\n",
       "      <td>8</td>\n",
       "      <td>300</td>\n",
       "    </tr>\n",
       "    <tr>\n",
       "      <td>4</td>\n",
       "      <td>-75</td>\n",
       "      <td>5</td>\n",
       "      <td>150</td>\n",
       "      <td>10</td>\n",
       "      <td>300</td>\n",
       "    </tr>\n",
       "    <tr>\n",
       "      <td>...</td>\n",
       "      <td>...</td>\n",
       "      <td>...</td>\n",
       "      <td>...</td>\n",
       "      <td>...</td>\n",
       "      <td>...</td>\n",
       "    </tr>\n",
       "    <tr>\n",
       "      <td>101</td>\n",
       "      <td>164</td>\n",
       "      <td>102</td>\n",
       "      <td>110</td>\n",
       "      <td>204</td>\n",
       "      <td>220</td>\n",
       "    </tr>\n",
       "    <tr>\n",
       "      <td>102</td>\n",
       "      <td>149</td>\n",
       "      <td>103</td>\n",
       "      <td>109</td>\n",
       "      <td>206</td>\n",
       "      <td>218</td>\n",
       "    </tr>\n",
       "    <tr>\n",
       "      <td>103</td>\n",
       "      <td>138</td>\n",
       "      <td>104</td>\n",
       "      <td>108</td>\n",
       "      <td>208</td>\n",
       "      <td>216</td>\n",
       "    </tr>\n",
       "    <tr>\n",
       "      <td>104</td>\n",
       "      <td>131</td>\n",
       "      <td>105</td>\n",
       "      <td>107</td>\n",
       "      <td>210</td>\n",
       "      <td>214</td>\n",
       "    </tr>\n",
       "    <tr>\n",
       "      <td>105</td>\n",
       "      <td>128</td>\n",
       "      <td>106</td>\n",
       "      <td>106</td>\n",
       "      <td>212</td>\n",
       "      <td>212</td>\n",
       "    </tr>\n",
       "  </tbody>\n",
       "</table>\n",
       "<p>106 rows × 5 columns</p>\n",
       "</div>"
      ],
      "text/plain": [
       "      pk    x    y   2x   2y\n",
       "0    -99    1  150    2  300\n",
       "1    -96    2  150    4  300\n",
       "2    -91    3  150    6  300\n",
       "3    -84    4  150    8  300\n",
       "4    -75    5  150   10  300\n",
       "..   ...  ...  ...  ...  ...\n",
       "101  164  102  110  204  220\n",
       "102  149  103  109  206  218\n",
       "103  138  104  108  208  216\n",
       "104  131  105  107  210  214\n",
       "105  128  106  106  212  212\n",
       "\n",
       "[106 rows x 5 columns]"
      ]
     },
     "execution_count": 14,
     "metadata": {},
     "output_type": "execute_result"
    }
   ],
   "source": [
    "df = pd.DataFrame({'pk':pks, 'x': X, 'y':Y, '2x': duaX, '2y': duaY})\n",
    "df"
   ]
  },
  {
   "cell_type": "code",
   "execution_count": 15,
   "metadata": {},
   "outputs": [
    {
     "data": {
      "image/png": "[encoded data removed]",
      "text/plain": [
       "<Figure size 432x288 with 1 Axes>"
      ]
     },
     "metadata": {
      "needs_background": "light"
     },
     "output_type": "display_data"
    }
   ],
   "source": [
    "plt.plot(X,Y)\n",
    "plt.title('Lingkaran dengan Algoritma Bresenham')\n",
    "plt.axis([0, 400, 0, 300])\n",
    "plt.show()"
   ]
  },
  {
   "cell_type": "markdown",
   "metadata": {},
   "source": [
    "## Pencerminan "
   ]
  },
  {
   "cell_type": "markdown",
   "metadata": {},
   "source": [
    "### Diagonal "
   ]
  },
  {
   "cell_type": "code",
   "execution_count": 16,
   "metadata": {},
   "outputs": [],
   "source": [
    "def pencerminan1():\n",
    "    k = len(df.index)-1\n",
    "    while k >= 0: \n",
    "        X.append(Y[k])\n",
    "        Y.append(X[k])\n",
    "        k=k-1 "
   ]
  },
  {
   "cell_type": "markdown",
   "metadata": {},
   "source": [
    "###  Vertical"
   ]
  },
  {
   "cell_type": "code",
   "execution_count": 17,
   "metadata": {},
   "outputs": [],
   "source": [
    "def pencerminan2():\n",
    "    k = len(df.index)-1\n",
    "    while k >= 0: \n",
    "        X.append(X[k])\n",
    "        Y.append(Y[k]*-1)\n",
    "        k=k-1 "
   ]
  },
  {
   "cell_type": "code",
   "execution_count": 18,
   "metadata": {},
   "outputs": [],
   "source": [
    "def pencerminan2():\n",
    "    k = len(df.index)-1\n",
    "    while k >= 0: \n",
    "        X.append(X[k])\n",
    "        Y.append(Y[k]*-1)\n",
    "        k=k-1 "
   ]
  },
  {
   "cell_type": "code",
   "execution_count": 19,
   "metadata": {},
   "outputs": [],
   "source": [
    "pencerminan1()\n",
    "df = pd.DataFrame({'x': X, 'y':Y})"
   ]
  },
  {
   "cell_type": "code",
   "execution_count": 20,
   "metadata": {},
   "outputs": [
    {
     "data": {
      "image/png": "[encoded data removed]",
      "text/plain": [
       "<Figure size 432x288 with 1 Axes>"
      ]
     },
     "metadata": {
      "needs_background": "light"
     },
     "output_type": "display_data"
    }
   ],
   "source": [
    "plt.plot(X,Y)\n",
    "plt.title('linkaran dengan Algoritma Bresenham')\n",
    "plt.axis([-400, 400, -300, 300])\n",
    "plt.show()"
   ]
  },
  {
   "cell_type": "code",
   "execution_count": 21,
   "metadata": {},
   "outputs": [],
   "source": [
    "pencerminan2()\n",
    "df = pd.DataFrame({'x': X, 'y':Y})"
   ]
  },
  {
   "cell_type": "code",
   "execution_count": 22,
   "metadata": {},
   "outputs": [
    {
     "data": {
      "image/png": "[encoded data removed]",
      "text/plain": [
       "<Figure size 432x288 with 1 Axes>"
      ]
     },
     "metadata": {
      "needs_background": "light"
     },
     "output_type": "display_data"
    }
   ],
   "source": [
    "plt.plot(X,Y)\n",
    "plt.title('linkaran dengan Algoritma Bresenham')\n",
    "plt.axis([-400, 400, -300, 300])\n",
    "plt.show()"
   ]
  },
  {
   "cell_type": "code",
   "execution_count": null,
   "metadata": {},
   "outputs": [],
   "source": []
  },
  {
   "cell_type": "code",
   "execution_count": null,
   "metadata": {},
   "outputs": [],
   "source": []
  }
 ],
 "metadata": {
  "kernelspec": {
   "display_name": "Python 3",
   "language": "python",
   "name": "python3"
  },
  "language_info": {
   "codemirror_mode": {
    "name": "ipython",
    "version": 3
   },
   "file_extension": ".py",
   "mimetype": "text/x-python",
   "name": "python",
   "nbconvert_exporter": "python",
   "pygments_lexer": "ipython3",
   "version": "3.7.4"
  }
 },
 "nbformat": 4,
 "nbformat_minor": 2
}
