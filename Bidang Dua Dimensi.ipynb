{
 "cells": [
  {
   "cell_type": "code",
   "execution_count": 2,
   "metadata": {},
   "outputs": [],
   "source": [
    "from matplotlib import pyplot as plt"
   ]
  },
  {
   "cell_type": "markdown",
   "metadata": {},
   "source": [
    "# Bidang Dua Dimensi Segitiga "
   ]
  },
  {
   "cell_type": "code",
   "execution_count": 8,
   "metadata": {},
   "outputs": [],
   "source": [
    "def triangle(Ax,Ay,Bx,By,Cx,Cy):\n",
    "    x = [Ax,Bx,Cx,Ax]\n",
    "    y = [Ay,By,Cy,Ay]\n",
    "    return x,y"
   ]
  },
  {
   "cell_type": "code",
   "execution_count": 9,
   "metadata": {},
   "outputs": [
    {
     "data": {
      "text/plain": [
       "([4, 8, 6, 4], [2, 2, 8, 2])"
      ]
     },
     "execution_count": 9,
     "metadata": {},
     "output_type": "execute_result"
    }
   ],
   "source": [
    "x,y = triangle(4,2,8,2,6,8)\n",
    "triangle(4,2,8,2,6,8)"
   ]
  },
  {
   "cell_type": "code",
   "execution_count": 10,
   "metadata": {},
   "outputs": [
    {
     "data": {
      "image/png": "[encoded data removed]",
      "text/plain": [
       "<Figure size 432x288 with 1 Axes>"
      ]
     },
     "metadata": {
      "needs_background": "light"
     },
     "output_type": "display_data"
    }
   ],
   "source": [
    "plt.plot(x,y)\n",
    "plt.axis([0,15,0,15])\n",
    "plt.show()"
   ]
  },
  {
   "cell_type": "markdown",
   "metadata": {},
   "source": [
    "## Translasi "
   ]
  },
  {
   "cell_type": "code",
   "execution_count": 68,
   "metadata": {},
   "outputs": [],
   "source": [
    "def translasi(x,y,tx,ty):\n",
    "    xtrans = []\n",
    "    ytrans = []\n",
    "    for i in range(len(x)):\n",
    "        xt = x[i] + tx\n",
    "        yt = y[i]+ty\n",
    "        xtrans.append(xt)\n",
    "        ytrans.append(yt)\n",
    "    return xtrans,ytrans"
   ]
  },
  {
   "cell_type": "code",
   "execution_count": 69,
   "metadata": {},
   "outputs": [
    {
     "data": {
      "text/plain": [
       "([8, 12, 10, 8], [5, 5, 11, 5])"
      ]
     },
     "execution_count": 69,
     "metadata": {},
     "output_type": "execute_result"
    }
   ],
   "source": [
    "xtrans,ytrans = translasi(x,y,4,3)\n",
    "translasi(x,y,4,3)"
   ]
  },
  {
   "cell_type": "code",
   "execution_count": 70,
   "metadata": {},
   "outputs": [
    {
     "data": {
      "image/png": "[encoded data removed]",
      "text/plain": [
       "<Figure size 432x288 with 1 Axes>"
      ]
     },
     "metadata": {
      "needs_background": "light"
     },
     "output_type": "display_data"
    }
   ],
   "source": [
    "plt.plot(xtrans,ytrans)\n",
    "plt.axis([0,15,0,15])\n",
    "plt.show()"
   ]
  },
  {
   "cell_type": "markdown",
   "metadata": {},
   "source": [
    "## Pengskalaan "
   ]
  },
  {
   "cell_type": "code",
   "execution_count": 71,
   "metadata": {},
   "outputs": [],
   "source": [
    "def scale(x,y,sx,sy):\n",
    "    xscale = []\n",
    "    yscale = []\n",
    "    for i in range(len(x)):\n",
    "        xs = x[i] * sx\n",
    "        ys = y[i] * sy\n",
    "        xscale.append(xs)\n",
    "        yscale.append(ys)\n",
    "    return xscale,yscale"
   ]
  },
  {
   "cell_type": "code",
   "execution_count": 78,
   "metadata": {},
   "outputs": [
    {
     "data": {
      "text/plain": [
       "([24, 36, 30, 24], [10, 10, 22, 10])"
      ]
     },
     "execution_count": 78,
     "metadata": {},
     "output_type": "execute_result"
    }
   ],
   "source": [
    "xscale,yscale = scale(xtrans,ytrans,3,2)\n",
    "scale(xtrans,ytrans,3,2)"
   ]
  },
  {
   "cell_type": "code",
   "execution_count": 119,
   "metadata": {},
   "outputs": [
    {
     "data": {
      "image/png": "[encoded data removed]",
      "text/plain": [
       "<Figure size 432x288 with 1 Axes>"
      ]
     },
     "metadata": {
      "needs_background": "light"
     },
     "output_type": "display_data"
    }
   ],
   "source": [
    "plt.plot(xscale,yscale)\n",
    "plt.axis([20,40,0,30])\n",
    "plt.show()"
   ]
  },
  {
   "cell_type": "markdown",
   "metadata": {},
   "source": [
    "## Rotate "
   ]
  },
  {
   "cell_type": "code",
   "execution_count": 112,
   "metadata": {},
   "outputs": [],
   "source": [
    "import math\n",
    "def rotate(x,y,pusatx,pusaty,derajat):\n",
    "    xrotate = []\n",
    "    yrotate = []\n",
    "    for i in range(len(x)):\n",
    "        xr = pusatx+(x[i]-pusatx)*round(math.cos(math.radians(derajat)),1)-(y[i]-pusaty)*round(math.sin(math.radians(derajat)),1)\n",
    "        yr = pusaty+(x[i]-pusatx)*round(math.sin(math.radians(derajat)),1)+(y[i]-pusaty)*round(math.cos(math.radians(derajat)),1)\n",
    "        xrotate.append(xr)\n",
    "        yrotate.append(yr)\n",
    "    return xrotate,yrotate"
   ]
  },
  {
   "cell_type": "code",
   "execution_count": 117,
   "metadata": {},
   "outputs": [
    {
     "data": {
      "text/plain": [
       "([24.0, 34.8, 23.4, 24.0], [10.0, 16.0, 23.8, 10.0])"
      ]
     },
     "execution_count": 117,
     "metadata": {},
     "output_type": "execute_result"
    }
   ],
   "source": [
    "xrotate, yrotate = rotate(xscale,yscale,xscale[0],yscale[0],30)\n",
    "rotate(xscale,yscale,xscale[0],yscale[0],30)"
   ]
  },
  {
   "cell_type": "code",
   "execution_count": 118,
   "metadata": {},
   "outputs": [
    {
     "data": {
      "image/png": "[encoded data removed]",
      "text/plain": [
       "<Figure size 432x288 with 1 Axes>"
      ]
     },
     "metadata": {
      "needs_background": "light"
     },
     "output_type": "display_data"
    }
   ],
   "source": [
    "plt.plot(xrotate,yrotate)\n",
    "plt.axis([20,40,0,30])\n",
    "plt.show()"
   ]
  },
  {
   "cell_type": "markdown",
   "metadata": {},
   "source": [
    "## Shear "
   ]
  },
  {
   "cell_type": "code",
   "execution_count": 120,
   "metadata": {},
   "outputs": [],
   "source": [
    "def shear(x,y,shx):\n",
    "    xshear = []\n",
    "    yshear = []\n",
    "    for i in range(len(x)):\n",
    "        xsh = (x[i]+shx)*y[i]\n",
    "        ysh = y[i]\n",
    "        xshear.append(xsh)\n",
    "        yshear.append(ysh)\n",
    "    return xshear,yshear"
   ]
  },
  {
   "cell_type": "code",
   "execution_count": 121,
   "metadata": {},
   "outputs": [
    {
     "data": {
      "text/plain": [
       "([260.0, 588.8, 604.52, 260.0], [10.0, 16.0, 23.8, 10.0])"
      ]
     },
     "execution_count": 121,
     "metadata": {},
     "output_type": "execute_result"
    }
   ],
   "source": [
    "xshear, yshear = shear(xrotate,yrotate,2)\n",
    "shear(xrotate,yrotate,2)"
   ]
  },
  {
   "cell_type": "code",
   "execution_count": 126,
   "metadata": {},
   "outputs": [
    {
     "data": {
      "image/png": "[encoded data removed]",
      "text/plain": [
       "<Figure size 432x288 with 1 Axes>"
      ]
     },
     "metadata": {
      "needs_background": "light"
     },
     "output_type": "display_data"
    }
   ],
   "source": [
    "plt.plot(xshear,yshear)\n",
    "plt.axis([220,610,0,30])\n",
    "plt.show()"
   ]
  },
  {
   "cell_type": "code",
   "execution_count": null,
   "metadata": {},
   "outputs": [],
   "source": []
  }
 ],
 "metadata": {
  "kernelspec": {
   "display_name": "Python 3",
   "language": "python",
   "name": "python3"
  },
  "language_info": {
   "codemirror_mode": {
    "name": "ipython",
    "version": 3
   },
   "file_extension": ".py",
   "mimetype": "text/x-python",
   "name": "python",
   "nbconvert_exporter": "python",
   "pygments_lexer": "ipython3",
   "version": "3.7.4"
  }
 },
 "nbformat": 4,
 "nbformat_minor": 2
}
