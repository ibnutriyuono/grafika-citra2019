{
 "cells": [
  {
   "cell_type": "markdown",
   "metadata": {},
   "source": [
    "# TUGAS BESAR 1 \n",
    "## Membuat gambar dengan algortima"
   ]
  },
  {
   "cell_type": "markdown",
   "metadata": {},
   "source": [
    "### Import matplotlib, pandas "
   ]
  },
  {
   "cell_type": "code",
   "execution_count": 6,
   "metadata": {},
   "outputs": [],
   "source": [
    "import pandas as pd\n",
    "from matplotlib import pyplot as plt"
   ]
  },
  {
   "cell_type": "markdown",
   "metadata": {},
   "source": [
    "### Styling pandas  "
   ]
  },
  {
   "cell_type": "code",
   "execution_count": 7,
   "metadata": {},
   "outputs": [
    {
     "data": {
      "text/html": [
       "<style type=\"text/css\">\n",
       "table.dataframe td, table.dataframe th {\n",
       "    border: 1px  black solid !important;\n",
       "    color: black !important;\n",
       "    width:20%;\n",
       "}\n",
       "</style>\n"
      ],
      "text/plain": [
       "<IPython.core.display.HTML object>"
      ]
     },
     "metadata": {},
     "output_type": "display_data"
    }
   ],
   "source": [
    "%%HTML\n",
    "<style type=\"text/css\">\n",
    "table.dataframe td, table.dataframe th {\n",
    "    border: 1px  black solid !important;\n",
    "    color: black !important;\n",
    "    width:20%;\n",
    "}\n",
    "</style>"
   ]
  },
  {
   "cell_type": "markdown",
   "metadata": {},
   "source": [
    "### Fungsi round untuk membulatkan angka "
   ]
  },
  {
   "cell_type": "code",
   "execution_count": 8,
   "metadata": {},
   "outputs": [],
   "source": [
    "def round(a):\n",
    "    return int(a + 0.5)"
   ]
  },
  {
   "cell_type": "markdown",
   "metadata": {},
   "source": [
    "## Algoritma DDA (Garis) "
   ]
  },
  {
   "cell_type": "code",
   "execution_count": 9,
   "metadata": {},
   "outputs": [],
   "source": [
    "def dda(x0,y0,x1,y1):\n",
    "    x = []\n",
    "    y = []\n",
    "    deltaX = x1-x0\n",
    "    deltaY = y1-y0\n",
    "    if abs(deltaX) > abs(deltaY):\n",
    "      step = abs(deltaX)\n",
    "    else:\n",
    "      step = abs(deltaY)\n",
    "    x_inc = abs(deltaX) / step\n",
    "    y_inc = abs(deltaY) / step\n",
    "    for i in range(step):\n",
    "        x0 = round(x0 + x_inc)\n",
    "        y0 = round(y0 + y_inc)\n",
    "        x.append(x0)\n",
    "        y.append(y0)\n",
    "    return x,y"
   ]
  },
  {
   "cell_type": "code",
   "execution_count": 10,
   "metadata": {},
   "outputs": [
    {
     "data": {
      "text/html": [
       "<div>\n",
       "<style scoped>\n",
       "    .dataframe tbody tr th:only-of-type {\n",
       "        vertical-align: middle;\n",
       "    }\n",
       "\n",
       "    .dataframe tbody tr th {\n",
       "        vertical-align: top;\n",
       "    }\n",
       "\n",
       "    .dataframe thead th {\n",
       "        text-align: right;\n",
       "    }\n",
       "</style>\n",
       "<table border=\"1\" class=\"dataframe\">\n",
       "  <thead>\n",
       "    <tr style=\"text-align: right;\">\n",
       "      <th></th>\n",
       "      <th>x</th>\n",
       "      <th>y</th>\n",
       "      <th>round(x),round(y)</th>\n",
       "    </tr>\n",
       "  </thead>\n",
       "  <tbody>\n",
       "    <tr>\n",
       "      <td>0</td>\n",
       "      <td>21</td>\n",
       "      <td>10</td>\n",
       "      <td>{21,10}</td>\n",
       "    </tr>\n",
       "    <tr>\n",
       "      <td>1</td>\n",
       "      <td>22</td>\n",
       "      <td>10</td>\n",
       "      <td>{22,10}</td>\n",
       "    </tr>\n",
       "    <tr>\n",
       "      <td>2</td>\n",
       "      <td>23</td>\n",
       "      <td>10</td>\n",
       "      <td>{23,10}</td>\n",
       "    </tr>\n",
       "    <tr>\n",
       "      <td>3</td>\n",
       "      <td>24</td>\n",
       "      <td>10</td>\n",
       "      <td>{24,10}</td>\n",
       "    </tr>\n",
       "    <tr>\n",
       "      <td>4</td>\n",
       "      <td>25</td>\n",
       "      <td>10</td>\n",
       "      <td>{25,10}</td>\n",
       "    </tr>\n",
       "    <tr>\n",
       "      <td>5</td>\n",
       "      <td>26</td>\n",
       "      <td>10</td>\n",
       "      <td>{26,10}</td>\n",
       "    </tr>\n",
       "    <tr>\n",
       "      <td>6</td>\n",
       "      <td>27</td>\n",
       "      <td>10</td>\n",
       "      <td>{27,10}</td>\n",
       "    </tr>\n",
       "    <tr>\n",
       "      <td>7</td>\n",
       "      <td>28</td>\n",
       "      <td>10</td>\n",
       "      <td>{28,10}</td>\n",
       "    </tr>\n",
       "    <tr>\n",
       "      <td>8</td>\n",
       "      <td>29</td>\n",
       "      <td>10</td>\n",
       "      <td>{29,10}</td>\n",
       "    </tr>\n",
       "    <tr>\n",
       "      <td>9</td>\n",
       "      <td>30</td>\n",
       "      <td>10</td>\n",
       "      <td>{30,10}</td>\n",
       "    </tr>\n",
       "  </tbody>\n",
       "</table>\n",
       "</div>"
      ],
      "text/plain": [
       "    x   y round(x),round(y)\n",
       "0  21  10           {21,10}\n",
       "1  22  10           {22,10}\n",
       "2  23  10           {23,10}\n",
       "3  24  10           {24,10}\n",
       "4  25  10           {25,10}\n",
       "5  26  10           {26,10}\n",
       "6  27  10           {27,10}\n",
       "7  28  10           {28,10}\n",
       "8  29  10           {29,10}\n",
       "9  30  10           {30,10}"
      ]
     },
     "execution_count": 10,
     "metadata": {},
     "output_type": "execute_result"
    }
   ],
   "source": [
    "x, y = dda(20,10,30,10)\n",
    "round_x = [round(x) for x in x]\n",
    "round_y = [round(x) for x in y]\n",
    "\n",
    "df = pd.DataFrame({'x': x, 'y':y})\n",
    "rd = pd.DataFrame({'round(x)':round_x, 'round(y)':round_y})\n",
    "df['round(x),round(y)']= \"{\"+rd[\"round(x)\"].astype(str) +\",\"+ rd[\"round(y)\"].astype(str)+\"}\"\n",
    "df"
   ]
  },
  {
   "cell_type": "markdown",
   "metadata": {},
   "source": [
    "## Algoritma Bressenham (Garis) "
   ]
  },
  {
   "cell_type": "code",
   "execution_count": 11,
   "metadata": {},
   "outputs": [],
   "source": [
    "def bresenham(x0,y0,x1,y1):  \n",
    "    xbresenham = []\n",
    "    ybresenham = []\n",
    "    pkarray = []\n",
    "    deltaX = x1-x0\n",
    "    deltaY = y1-y0\n",
    "    delta2x = 2*deltaX\n",
    "    delta2y = 2*deltaY\n",
    "    delta2y2x = delta2y-delta2x\n",
    "    p0 = delta2y-deltaX\n",
    "    pk = p0\n",
    "    for i in range(deltaX):\n",
    "        if pk==p0 and pk>0:\n",
    "            x0 = x0+1\n",
    "            y0 = y0+1\n",
    "            pk = pk+delta2y2x\n",
    "            xbresenham.append(x0)\n",
    "            ybresenham.append(y0)\n",
    "            pkarray.append(pk)\n",
    "        elif pk!=p0 and pk>0:\n",
    "            x0 = x0+1\n",
    "            y0 = y0+1\n",
    "            pk = pk+delta2y2x\n",
    "            xbresenham.append(x0)\n",
    "            ybresenham.append(y0)\n",
    "            pkarray.append(pk)\n",
    "        elif pk!=p0 and pk<0:\n",
    "            x0 = x0+1\n",
    "            pk = pk+delta2y\n",
    "            xbresenham.append(x0)\n",
    "            ybresenham.append(y0)\n",
    "            pkarray.append(pk)\n",
    "        else:\n",
    "            x0 = x0+1\n",
    "            pk = pk+1+delta2y\n",
    "            xbresenham.append(x0)\n",
    "            ybresenham.append(y0)\n",
    "            pkarray.append(pk)\n",
    "    return xbresenham,ybresenham, pkarray"
   ]
  },
  {
   "cell_type": "code",
   "execution_count": 12,
   "metadata": {},
   "outputs": [
    {
     "data": {
      "text/html": [
       "<div>\n",
       "<style scoped>\n",
       "    .dataframe tbody tr th:only-of-type {\n",
       "        vertical-align: middle;\n",
       "    }\n",
       "\n",
       "    .dataframe tbody tr th {\n",
       "        vertical-align: top;\n",
       "    }\n",
       "\n",
       "    .dataframe thead th {\n",
       "        text-align: right;\n",
       "    }\n",
       "</style>\n",
       "<table border=\"1\" class=\"dataframe\">\n",
       "  <thead>\n",
       "    <tr style=\"text-align: right;\">\n",
       "      <th></th>\n",
       "      <th>pk</th>\n",
       "      <th>x</th>\n",
       "      <th>y</th>\n",
       "      <th>round(x),round(y)</th>\n",
       "    </tr>\n",
       "  </thead>\n",
       "  <tbody>\n",
       "    <tr>\n",
       "      <td>0</td>\n",
       "      <td>2</td>\n",
       "      <td>21</td>\n",
       "      <td>11</td>\n",
       "      <td>{21,10}</td>\n",
       "    </tr>\n",
       "    <tr>\n",
       "      <td>1</td>\n",
       "      <td>-2</td>\n",
       "      <td>22</td>\n",
       "      <td>12</td>\n",
       "      <td>{22,10}</td>\n",
       "    </tr>\n",
       "    <tr>\n",
       "      <td>2</td>\n",
       "      <td>14</td>\n",
       "      <td>23</td>\n",
       "      <td>12</td>\n",
       "      <td>{23,10}</td>\n",
       "    </tr>\n",
       "    <tr>\n",
       "      <td>3</td>\n",
       "      <td>10</td>\n",
       "      <td>24</td>\n",
       "      <td>13</td>\n",
       "      <td>{24,10}</td>\n",
       "    </tr>\n",
       "    <tr>\n",
       "      <td>4</td>\n",
       "      <td>6</td>\n",
       "      <td>25</td>\n",
       "      <td>14</td>\n",
       "      <td>{25,10}</td>\n",
       "    </tr>\n",
       "    <tr>\n",
       "      <td>5</td>\n",
       "      <td>2</td>\n",
       "      <td>26</td>\n",
       "      <td>15</td>\n",
       "      <td>{26,10}</td>\n",
       "    </tr>\n",
       "    <tr>\n",
       "      <td>6</td>\n",
       "      <td>-2</td>\n",
       "      <td>27</td>\n",
       "      <td>16</td>\n",
       "      <td>{27,10}</td>\n",
       "    </tr>\n",
       "    <tr>\n",
       "      <td>7</td>\n",
       "      <td>14</td>\n",
       "      <td>28</td>\n",
       "      <td>16</td>\n",
       "      <td>{28,10}</td>\n",
       "    </tr>\n",
       "    <tr>\n",
       "      <td>8</td>\n",
       "      <td>10</td>\n",
       "      <td>29</td>\n",
       "      <td>17</td>\n",
       "      <td>{29,10}</td>\n",
       "    </tr>\n",
       "    <tr>\n",
       "      <td>9</td>\n",
       "      <td>6</td>\n",
       "      <td>30</td>\n",
       "      <td>18</td>\n",
       "      <td>{30,10}</td>\n",
       "    </tr>\n",
       "  </tbody>\n",
       "</table>\n",
       "</div>"
      ],
      "text/plain": [
       "   pk   x   y round(x),round(y)\n",
       "0   2  21  11           {21,10}\n",
       "1  -2  22  12           {22,10}\n",
       "2  14  23  12           {23,10}\n",
       "3  10  24  13           {24,10}\n",
       "4   6  25  14           {25,10}\n",
       "5   2  26  15           {26,10}\n",
       "6  -2  27  16           {27,10}\n",
       "7  14  28  16           {28,10}\n",
       "8  10  29  17           {29,10}\n",
       "9   6  30  18           {30,10}"
      ]
     },
     "execution_count": 12,
     "metadata": {},
     "output_type": "execute_result"
    }
   ],
   "source": [
    "xbresenham, ybresenham, pkarray = bresenham(20,10,30,18)\n",
    "df = pd.DataFrame({'pk': pkarray,'x': xbresenham, 'y':ybresenham})\n",
    "df['round(x),round(y)']= \"{\"+rd[\"round(x)\"].astype(str) +\",\"+ rd[\"round(y)\"].astype(str)+\"}\"\n",
    "df"
   ]
  },
  {
   "cell_type": "markdown",
   "metadata": {},
   "source": [
    "### Cerobong Asap "
   ]
  },
  {
   "cell_type": "code",
   "execution_count": 121,
   "metadata": {},
   "outputs": [],
   "source": [
    "ca1, cb1 = dda(10,10,20,10)\n",
    "ca2, cb2 = dda(10,10,20,100)\n",
    "ca3, cb3 = dda(20,10,20,100)\n",
    "ca4, cb4 = dda(10,100,20,100)"
   ]
  },
  {
   "cell_type": "markdown",
   "metadata": {},
   "source": [
    "### Asap "
   ]
  },
  {
   "cell_type": "code",
   "execution_count": 122,
   "metadata": {},
   "outputs": [],
   "source": [
    "aa1,ab1 = dda(10,110,20,110)\n",
    "aa2,ab2 = dda(10,110,10,120)\n",
    "aa3,ab3 = dda(20,110,20,120)\n",
    "aa4,ab4 = dda(10,120,20,120)"
   ]
  },
  {
   "cell_type": "markdown",
   "metadata": {},
   "source": [
    "### Rumah "
   ]
  },
  {
   "cell_type": "code",
   "execution_count": 123,
   "metadata": {},
   "outputs": [],
   "source": [
    "ra1, rb1 = dda(20,10,70,10)\n",
    "ra2, rb2 = dda(20,60,70,60)\n",
    "ra3, rb3 = dda(70,10,70,60)"
   ]
  },
  {
   "cell_type": "markdown",
   "metadata": {},
   "source": [
    "### Pintu "
   ]
  },
  {
   "cell_type": "code",
   "execution_count": 124,
   "metadata": {},
   "outputs": [],
   "source": [
    "pa1, pb1 = dda(40,10,40,30)\n",
    "pa2, pb2 = dda(50,10,50,30)\n",
    "pa3, pb3 = dda(40,30,50,30)"
   ]
  },
  {
   "cell_type": "markdown",
   "metadata": {},
   "source": [
    "### Plotting Garis "
   ]
  },
  {
   "cell_type": "code",
   "execution_count": 141,
   "metadata": {},
   "outputs": [
    {
     "data": {
      "image/png": "[encoded data removed]",
      "text/plain": [
       "<Figure size 432x288 with 1 Axes>"
      ]
     },
     "metadata": {
      "needs_background": "light"
     },
     "output_type": "display_data"
    }
   ],
   "source": [
    "plt.plot(ca1,cb1)\n",
    "plt.plot(ca2,cb2)\n",
    "plt.plot(ca3,cb3)\n",
    "plt.plot(ca4,cb4)\n",
    "plt.plot(ra1,rb1)\n",
    "plt.plot(ra2,rb2)\n",
    "plt.plot(ra3,rb3)\n",
    "plt.plot(pa1,pb1)\n",
    "plt.plot(pa2,pb2)\n",
    "plt.plot(pa3,pb3)\n",
    "plt.plot(aa1,ab1)\n",
    "plt.plot(aa2,ab2)\n",
    "plt.plot(aa3,ab3)\n",
    "plt.plot(aa4,ab4)\n",
    "plt.plot(ba1,bb1)\n",
    "plt.plot(ba2,bb2)\n",
    "plt.plot(ba3,bb3)\n",
    "plt.axis([0,150,0,150])\n",
    "plt.show()"
   ]
  },
  {
   "cell_type": "code",
   "execution_count": null,
   "metadata": {},
   "outputs": [],
   "source": []
  }
 ],
 "metadata": {
  "kernelspec": {
   "display_name": "Python 3",
   "language": "python",
   "name": "python3"
  },
  "language_info": {
   "codemirror_mode": {
    "name": "ipython",
    "version": 3
   },
   "file_extension": ".py",
   "mimetype": "text/x-python",
   "name": "python",
   "nbconvert_exporter": "python",
   "pygments_lexer": "ipython3",
   "version": "3.7.4"
  }
 },
 "nbformat": 4,
 "nbformat_minor": 2
}
